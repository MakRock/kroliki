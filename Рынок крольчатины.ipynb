{
 "cells": [
  {
   "cell_type": "code",
   "execution_count": 1,
   "metadata": {},
   "outputs": [],
   "source": [
    "import pandas as pd\n",
    "import seaborn as sns\n",
    "import matplotlib.pyplot as plt\n",
    "import plotly.graph_objects as go\n",
    "import numpy as np"
   ]
  },
  {
   "cell_type": "code",
   "execution_count": 2,
   "metadata": {},
   "outputs": [],
   "source": [
    "data = pd.read_excel('seti_2.xlsx', sheet_name='Товары')"
   ]
  },
  {
   "cell_type": "code",
   "execution_count": 3,
   "metadata": {},
   "outputs": [
    {
     "data": {
      "text/html": [
       "<div>\n",
       "<style scoped>\n",
       "    .dataframe tbody tr th:only-of-type {\n",
       "        vertical-align: middle;\n",
       "    }\n",
       "\n",
       "    .dataframe tbody tr th {\n",
       "        vertical-align: top;\n",
       "    }\n",
       "\n",
       "    .dataframe thead th {\n",
       "        text-align: right;\n",
       "    }\n",
       "</style>\n",
       "<table border=\"1\" class=\"dataframe\">\n",
       "  <thead>\n",
       "    <tr style=\"text-align: right;\">\n",
       "      <th></th>\n",
       "      <th>Сеть</th>\n",
       "      <th>Название</th>\n",
       "      <th>Хранение</th>\n",
       "      <th>Цена, руб</th>\n",
       "      <th>Фасовка, г</th>\n",
       "      <th>Цена за 1 кг</th>\n",
       "      <th>Производитель</th>\n",
       "      <th>Бренд</th>\n",
       "    </tr>\n",
       "  </thead>\n",
       "  <tbody>\n",
       "    <tr>\n",
       "      <th>0</th>\n",
       "      <td>Глобус</td>\n",
       "      <td>NaN</td>\n",
       "      <td>NaN</td>\n",
       "      <td>NaN</td>\n",
       "      <td>NaN</td>\n",
       "      <td>NaN</td>\n",
       "      <td>NaN</td>\n",
       "      <td>NaN</td>\n",
       "    </tr>\n",
       "    <tr>\n",
       "      <th>1</th>\n",
       "      <td>Азбука вкуса</td>\n",
       "      <td>Ножки кролика</td>\n",
       "      <td>Охлажденный</td>\n",
       "      <td>553.0</td>\n",
       "      <td>490.0</td>\n",
       "      <td>1128.571429</td>\n",
       "      <td>Бежин луг</td>\n",
       "      <td>Бежин луг</td>\n",
       "    </tr>\n",
       "    <tr>\n",
       "      <th>2</th>\n",
       "      <td>Азбука вкуса</td>\n",
       "      <td>Филе кролика</td>\n",
       "      <td>Охлажденный</td>\n",
       "      <td>152.0</td>\n",
       "      <td>100.0</td>\n",
       "      <td>1520.000000</td>\n",
       "      <td>КРОЛЪ и К</td>\n",
       "      <td>КРОЛЪ и К</td>\n",
       "    </tr>\n",
       "    <tr>\n",
       "      <th>3</th>\n",
       "      <td>Азбука вкуса</td>\n",
       "      <td>Тушка кролика</td>\n",
       "      <td>Охлажденный</td>\n",
       "      <td>1596.0</td>\n",
       "      <td>2000.0</td>\n",
       "      <td>798.000000</td>\n",
       "      <td>КФХ Шатурский фермер</td>\n",
       "      <td>КРОЛЪ и К</td>\n",
       "    </tr>\n",
       "    <tr>\n",
       "      <th>4</th>\n",
       "      <td>Азбука вкуса</td>\n",
       "      <td>Фарш из кролика</td>\n",
       "      <td>Замороженный</td>\n",
       "      <td>490.0</td>\n",
       "      <td>500.0</td>\n",
       "      <td>980.000000</td>\n",
       "      <td>Арсеньевский м/к</td>\n",
       "      <td>Наша ферма</td>\n",
       "    </tr>\n",
       "  </tbody>\n",
       "</table>\n",
       "</div>"
      ],
      "text/plain": [
       "           Сеть         Название      Хранение  Цена, руб  Фасовка, г  \\\n",
       "0        Глобус              NaN           NaN        NaN         NaN   \n",
       "1  Азбука вкуса    Ножки кролика   Охлажденный      553.0       490.0   \n",
       "2  Азбука вкуса     Филе кролика   Охлажденный      152.0       100.0   \n",
       "3  Азбука вкуса    Тушка кролика   Охлажденный     1596.0      2000.0   \n",
       "4  Азбука вкуса  Фарш из кролика  Замороженный      490.0       500.0   \n",
       "\n",
       "   Цена за 1 кг         Производитель       Бренд  \n",
       "0           NaN                   NaN         NaN  \n",
       "1   1128.571429             Бежин луг   Бежин луг  \n",
       "2   1520.000000             КРОЛЪ и К   КРОЛЪ и К  \n",
       "3    798.000000  КФХ Шатурский фермер   КРОЛЪ и К  \n",
       "4    980.000000      Арсеньевский м/к  Наша ферма  "
      ]
     },
     "execution_count": 3,
     "metadata": {},
     "output_type": "execute_result"
    }
   ],
   "source": [
    "data.head()"
   ]
  },
  {
   "cell_type": "markdown",
   "metadata": {},
   "source": [
    "**Топ сетей, в которых больше всего продуктов из кролика**"
   ]
  },
  {
   "cell_type": "code",
   "execution_count": 4,
   "metadata": {},
   "outputs": [
    {
     "data": {
      "text/html": [
       "<div>\n",
       "<style scoped>\n",
       "    .dataframe tbody tr th:only-of-type {\n",
       "        vertical-align: middle;\n",
       "    }\n",
       "\n",
       "    .dataframe tbody tr th {\n",
       "        vertical-align: top;\n",
       "    }\n",
       "\n",
       "    .dataframe thead th {\n",
       "        text-align: right;\n",
       "    }\n",
       "</style>\n",
       "<table border=\"1\" class=\"dataframe\">\n",
       "  <thead>\n",
       "    <tr style=\"text-align: right;\">\n",
       "      <th></th>\n",
       "      <th>net</th>\n",
       "      <th>count</th>\n",
       "    </tr>\n",
       "  </thead>\n",
       "  <tbody>\n",
       "    <tr>\n",
       "      <th>0</th>\n",
       "      <td>Metro</td>\n",
       "      <td>10</td>\n",
       "    </tr>\n",
       "    <tr>\n",
       "      <th>1</th>\n",
       "      <td>ВкусВилл</td>\n",
       "      <td>8</td>\n",
       "    </tr>\n",
       "    <tr>\n",
       "      <th>2</th>\n",
       "      <td>Азбука вкуса</td>\n",
       "      <td>5</td>\n",
       "    </tr>\n",
       "    <tr>\n",
       "      <th>3</th>\n",
       "      <td>Глобус Гурмэ</td>\n",
       "      <td>5</td>\n",
       "    </tr>\n",
       "    <tr>\n",
       "      <th>4</th>\n",
       "      <td>Лента</td>\n",
       "      <td>3</td>\n",
       "    </tr>\n",
       "    <tr>\n",
       "      <th>5</th>\n",
       "      <td>Перкресток</td>\n",
       "      <td>2</td>\n",
       "    </tr>\n",
       "    <tr>\n",
       "      <th>6</th>\n",
       "      <td>ТочкаМаркет</td>\n",
       "      <td>2</td>\n",
       "    </tr>\n",
       "    <tr>\n",
       "      <th>7</th>\n",
       "      <td>Billa</td>\n",
       "      <td>1</td>\n",
       "    </tr>\n",
       "    <tr>\n",
       "      <th>8</th>\n",
       "      <td>Авоська</td>\n",
       "      <td>1</td>\n",
       "    </tr>\n",
       "    <tr>\n",
       "      <th>9</th>\n",
       "      <td>Монетка</td>\n",
       "      <td>1</td>\n",
       "    </tr>\n",
       "  </tbody>\n",
       "</table>\n",
       "</div>"
      ],
      "text/plain": [
       "            net  count\n",
       "0         Metro     10\n",
       "1      ВкусВилл      8\n",
       "2  Азбука вкуса      5\n",
       "3  Глобус Гурмэ      5\n",
       "4         Лента      3\n",
       "5    Перкресток      2\n",
       "6   ТочкаМаркет      2\n",
       "7         Billa      1\n",
       "8       Авоська      1\n",
       "9       Монетка      1"
      ]
     },
     "execution_count": 4,
     "metadata": {},
     "output_type": "execute_result"
    }
   ],
   "source": [
    "top_net = data['Сеть'].value_counts().reset_index().head(10).rename(columns={'index':'net', 'Сеть':'count'})\n",
    "top_net"
   ]
  },
  {
   "cell_type": "code",
   "execution_count": 5,
   "metadata": {},
   "outputs": [
    {
     "data": {
      "image/png": "[encoded data removed]",
      "text/plain": [
       "<Figure size 864x360 with 1 Axes>"
      ]
     },
     "metadata": {
      "needs_background": "light"
     },
     "output_type": "display_data"
    }
   ],
   "source": [
    "plt.subplots(figsize=(12, 5))\n",
    "plt.title('ТОП сетей', pad=20)\n",
    "plt.legend('')\n",
    "\n",
    "ax = sns.barplot(x=\"count\", y=\"net\", data=top_net)\n",
    "ax.tick_params(labelleft=True, left=False) # выводить значения по оси y, черточки нет\n",
    "ax.set_xlabel('Кол-во позиций товаров', labelpad=15)\n",
    "ax.set_ylabel('', labelpad=15)\n",
    "\n",
    "sns.despine(left=True, bottom=True) # удалить линии границы"
   ]
  },
  {
   "cell_type": "markdown",
   "metadata": {},
   "source": [
    "**Топ продуктов из кролика**"
   ]
  },
  {
   "cell_type": "code",
   "execution_count": 6,
   "metadata": {},
   "outputs": [
    {
     "data": {
      "text/html": [
       "<div>\n",
       "<style scoped>\n",
       "    .dataframe tbody tr th:only-of-type {\n",
       "        vertical-align: middle;\n",
       "    }\n",
       "\n",
       "    .dataframe tbody tr th {\n",
       "        vertical-align: top;\n",
       "    }\n",
       "\n",
       "    .dataframe thead th {\n",
       "        text-align: right;\n",
       "    }\n",
       "</style>\n",
       "<table border=\"1\" class=\"dataframe\">\n",
       "  <thead>\n",
       "    <tr style=\"text-align: right;\">\n",
       "      <th></th>\n",
       "      <th>name</th>\n",
       "      <th>count</th>\n",
       "    </tr>\n",
       "  </thead>\n",
       "  <tbody>\n",
       "    <tr>\n",
       "      <th>0</th>\n",
       "      <td>Тушка кролика</td>\n",
       "      <td>14</td>\n",
       "    </tr>\n",
       "    <tr>\n",
       "      <th>1</th>\n",
       "      <td>Ножки кролика</td>\n",
       "      <td>8</td>\n",
       "    </tr>\n",
       "    <tr>\n",
       "      <th>2</th>\n",
       "      <td>Котлеты из кролика</td>\n",
       "      <td>4</td>\n",
       "    </tr>\n",
       "    <tr>\n",
       "      <th>3</th>\n",
       "      <td>Пельмени с мясом кролика</td>\n",
       "      <td>3</td>\n",
       "    </tr>\n",
       "    <tr>\n",
       "      <th>4</th>\n",
       "      <td>Фарш из кролика</td>\n",
       "      <td>3</td>\n",
       "    </tr>\n",
       "    <tr>\n",
       "      <th>5</th>\n",
       "      <td>Филе кролика</td>\n",
       "      <td>2</td>\n",
       "    </tr>\n",
       "    <tr>\n",
       "      <th>6</th>\n",
       "      <td>Котелты из кролика</td>\n",
       "      <td>2</td>\n",
       "    </tr>\n",
       "    <tr>\n",
       "      <th>7</th>\n",
       "      <td>Печень кролика</td>\n",
       "      <td>1</td>\n",
       "    </tr>\n",
       "    <tr>\n",
       "      <th>8</th>\n",
       "      <td>Ножки кролика в маринаде</td>\n",
       "      <td>1</td>\n",
       "    </tr>\n",
       "    <tr>\n",
       "      <th>9</th>\n",
       "      <td>Тушка кролика в маринаде</td>\n",
       "      <td>1</td>\n",
       "    </tr>\n",
       "  </tbody>\n",
       "</table>\n",
       "</div>"
      ],
      "text/plain": [
       "                       name  count\n",
       "0             Тушка кролика     14\n",
       "1             Ножки кролика      8\n",
       "2        Котлеты из кролика      4\n",
       "3  Пельмени с мясом кролика      3\n",
       "4           Фарш из кролика      3\n",
       "5              Филе кролика      2\n",
       "6        Котелты из кролика      2\n",
       "7            Печень кролика      1\n",
       "8  Ножки кролика в маринаде      1\n",
       "9  Тушка кролика в маринаде      1"
      ]
     },
     "execution_count": 6,
     "metadata": {},
     "output_type": "execute_result"
    }
   ],
   "source": [
    "top_product = data['Название'].value_counts().reset_index().head(10).rename(columns={'index':'name', 'Название':'count'})\n",
    "top_product "
   ]
  },
  {
   "cell_type": "code",
   "execution_count": 7,
   "metadata": {},
   "outputs": [
    {
     "data": {
      "image/png": "[encoded data removed]",
      "text/plain": [
       "<Figure size 864x360 with 1 Axes>"
      ]
     },
     "metadata": {
      "needs_background": "light"
     },
     "output_type": "display_data"
    }
   ],
   "source": [
    "plt.subplots(figsize=(12, 5))\n",
    "plt.title('ТОП продуктов', pad=20)\n",
    "plt.legend('')\n",
    "\n",
    "ax = sns.barplot(x=\"count\", y=\"name\", data=top_product )\n",
    "ax.tick_params(labelleft=True, left=False) # выводить значения по оси y, черточки нет\n",
    "ax.set_xlabel('Кол-во товаров в сетях', labelpad=15)\n",
    "ax.set_ylabel('', labelpad=15)\n",
    "\n",
    "sns.despine(left=True, bottom=True) # удалить линии границы"
   ]
  },
  {
   "cell_type": "markdown",
   "metadata": {},
   "source": [
    "**Топ производителей**"
   ]
  },
  {
   "cell_type": "code",
   "execution_count": 8,
   "metadata": {},
   "outputs": [
    {
     "data": {
      "text/html": [
       "<div>\n",
       "<style scoped>\n",
       "    .dataframe tbody tr th:only-of-type {\n",
       "        vertical-align: middle;\n",
       "    }\n",
       "\n",
       "    .dataframe tbody tr th {\n",
       "        vertical-align: top;\n",
       "    }\n",
       "\n",
       "    .dataframe thead th {\n",
       "        text-align: right;\n",
       "    }\n",
       "</style>\n",
       "<table border=\"1\" class=\"dataframe\">\n",
       "  <thead>\n",
       "    <tr style=\"text-align: right;\">\n",
       "      <th></th>\n",
       "      <th>name</th>\n",
       "      <th>count</th>\n",
       "    </tr>\n",
       "  </thead>\n",
       "  <tbody>\n",
       "    <tr>\n",
       "      <th>0</th>\n",
       "      <td>Неизвестно</td>\n",
       "      <td>16</td>\n",
       "    </tr>\n",
       "    <tr>\n",
       "      <th>1</th>\n",
       "      <td>КРОЛЪ и К</td>\n",
       "      <td>11</td>\n",
       "    </tr>\n",
       "    <tr>\n",
       "      <th>2</th>\n",
       "      <td>Арсеньевские фермы</td>\n",
       "      <td>5</td>\n",
       "    </tr>\n",
       "    <tr>\n",
       "      <th>3</th>\n",
       "      <td>Мозайцево</td>\n",
       "      <td>2</td>\n",
       "    </tr>\n",
       "    <tr>\n",
       "      <th>4</th>\n",
       "      <td>Арсеньевский м/к</td>\n",
       "      <td>1</td>\n",
       "    </tr>\n",
       "    <tr>\n",
       "      <th>5</th>\n",
       "      <td>«Оренбургский кролик»</td>\n",
       "      <td>1</td>\n",
       "    </tr>\n",
       "    <tr>\n",
       "      <th>6</th>\n",
       "      <td>ЛИПЕЦКИЙ КРОЛИК, ООО</td>\n",
       "      <td>1</td>\n",
       "    </tr>\n",
       "    <tr>\n",
       "      <th>7</th>\n",
       "      <td>METRO CHEF</td>\n",
       "      <td>1</td>\n",
       "    </tr>\n",
       "    <tr>\n",
       "      <th>8</th>\n",
       "      <td>Бежин луг</td>\n",
       "      <td>1</td>\n",
       "    </tr>\n",
       "    <tr>\n",
       "      <th>9</th>\n",
       "      <td>КФХ Шатурский фермер</td>\n",
       "      <td>1</td>\n",
       "    </tr>\n",
       "  </tbody>\n",
       "</table>\n",
       "</div>"
      ],
      "text/plain": [
       "                    name  count\n",
       "0             Неизвестно     16\n",
       "1              КРОЛЪ и К     11\n",
       "2     Арсеньевские фермы      5\n",
       "3              Мозайцево      2\n",
       "4       Арсеньевский м/к      1\n",
       "5  «Оренбургский кролик»      1\n",
       "6   ЛИПЕЦКИЙ КРОЛИК, ООО      1\n",
       "7             METRO CHEF      1\n",
       "8              Бежин луг      1\n",
       "9   КФХ Шатурский фермер      1"
      ]
     },
     "execution_count": 8,
     "metadata": {},
     "output_type": "execute_result"
    }
   ],
   "source": [
    "top_produce = data['Производитель'].value_counts().reset_index().head(10).rename(columns={'index':'name', 'Производитель':'count'})\n",
    "top_produce"
   ]
  },
  {
   "cell_type": "code",
   "execution_count": 9,
   "metadata": {},
   "outputs": [
    {
     "data": {
      "image/png": "[encoded data removed]",
      "text/plain": [
       "<Figure size 864x360 with 1 Axes>"
      ]
     },
     "metadata": {
      "needs_background": "light"
     },
     "output_type": "display_data"
    }
   ],
   "source": [
    "plt.subplots(figsize=(12, 5))\n",
    "plt.title('ТОП производителей', pad=20)\n",
    "plt.legend('')\n",
    "\n",
    "ax = sns.barplot(x=\"count\", y=\"name\", data=top_produce)\n",
    "ax.tick_params(labelleft=True, left=False) # выводить значения по оси y, черточки нет\n",
    "ax.set_xlabel('Кол-во товаров в сетях', labelpad=15)\n",
    "ax.set_ylabel('', labelpad=15)\n",
    "\n",
    "sns.despine(left=True, bottom=True) # удалить линии границы"
   ]
  },
  {
   "cell_type": "markdown",
   "metadata": {},
   "source": [
    "**Средняя цена за 1 кг для каждого вида продукта**"
   ]
  },
  {
   "cell_type": "code",
   "execution_count": 10,
   "metadata": {},
   "outputs": [
    {
     "data": {
      "text/html": [
       "<div>\n",
       "<style scoped>\n",
       "    .dataframe tbody tr th:only-of-type {\n",
       "        vertical-align: middle;\n",
       "    }\n",
       "\n",
       "    .dataframe tbody tr th {\n",
       "        vertical-align: top;\n",
       "    }\n",
       "\n",
       "    .dataframe thead th {\n",
       "        text-align: right;\n",
       "    }\n",
       "</style>\n",
       "<table border=\"1\" class=\"dataframe\">\n",
       "  <thead>\n",
       "    <tr style=\"text-align: right;\">\n",
       "      <th></th>\n",
       "      <th>Название</th>\n",
       "      <th>Цена за 1 кг</th>\n",
       "    </tr>\n",
       "  </thead>\n",
       "  <tbody>\n",
       "    <tr>\n",
       "      <th>1</th>\n",
       "      <td>Тефтели из кролика</td>\n",
       "      <td>2690.0</td>\n",
       "    </tr>\n",
       "    <tr>\n",
       "      <th>2</th>\n",
       "      <td>Котлеты из кролика</td>\n",
       "      <td>1740.0</td>\n",
       "    </tr>\n",
       "    <tr>\n",
       "      <th>3</th>\n",
       "      <td>Котелты из кролика</td>\n",
       "      <td>1294.0</td>\n",
       "    </tr>\n",
       "    <tr>\n",
       "      <th>4</th>\n",
       "      <td>Филе кролика</td>\n",
       "      <td>1034.0</td>\n",
       "    </tr>\n",
       "    <tr>\n",
       "      <th>5</th>\n",
       "      <td>Пельмени с мясом кролика</td>\n",
       "      <td>988.0</td>\n",
       "    </tr>\n",
       "    <tr>\n",
       "      <th>6</th>\n",
       "      <td>Ножки кролика</td>\n",
       "      <td>970.0</td>\n",
       "    </tr>\n",
       "    <tr>\n",
       "      <th>7</th>\n",
       "      <td>Фарш из кролика</td>\n",
       "      <td>894.0</td>\n",
       "    </tr>\n",
       "    <tr>\n",
       "      <th>8</th>\n",
       "      <td>Ножки кролика в маринаде</td>\n",
       "      <td>829.0</td>\n",
       "    </tr>\n",
       "    <tr>\n",
       "      <th>9</th>\n",
       "      <td>Тушка кролика в маринаде</td>\n",
       "      <td>629.0</td>\n",
       "    </tr>\n",
       "    <tr>\n",
       "      <th>10</th>\n",
       "      <td>Тушка кролика</td>\n",
       "      <td>618.0</td>\n",
       "    </tr>\n",
       "    <tr>\n",
       "      <th>11</th>\n",
       "      <td>Печень кролика</td>\n",
       "      <td>580.0</td>\n",
       "    </tr>\n",
       "  </tbody>\n",
       "</table>\n",
       "</div>"
      ],
      "text/plain": [
       "                    Название  Цена за 1 кг\n",
       "1         Тефтели из кролика        2690.0\n",
       "2         Котлеты из кролика        1740.0\n",
       "3         Котелты из кролика        1294.0\n",
       "4               Филе кролика        1034.0\n",
       "5   Пельмени с мясом кролика         988.0\n",
       "6              Ножки кролика         970.0\n",
       "7            Фарш из кролика         894.0\n",
       "8   Ножки кролика в маринаде         829.0\n",
       "9   Тушка кролика в маринаде         629.0\n",
       "10             Тушка кролика         618.0\n",
       "11            Печень кролика         580.0"
      ]
     },
     "execution_count": 10,
     "metadata": {},
     "output_type": "execute_result"
    }
   ],
   "source": [
    "avg_price = data.pivot_table(index='Название', values='Цена за 1 кг', aggfunc='mean').sort_values('Цена за 1 кг', ascending=False).reset_index().round()\n",
    "avg_price.index = avg_price.index + 1\n",
    "avg_price"
   ]
  },
  {
   "cell_type": "code",
   "execution_count": 11,
   "metadata": {},
   "outputs": [
    {
     "data": {
      "image/png": "[encoded data removed]",
      "text/plain": [
       "<Figure size 864x360 with 1 Axes>"
      ]
     },
     "metadata": {
      "needs_background": "light"
     },
     "output_type": "display_data"
    }
   ],
   "source": [
    "plt.subplots(figsize=(12, 5))\n",
    "plt.title('Средняя цена по видам продуктов', pad=20)\n",
    "plt.legend('')\n",
    "\n",
    "ax = sns.barplot(x=\"Цена за 1 кг\", y=\"Название\", data=avg_price)\n",
    "ax.tick_params(labelleft=True, left=False) # выводить значения по оси y, черточки нет\n",
    "ax.set_xlabel('Средняя цена, руб', labelpad=15)\n",
    "ax.set_ylabel('', labelpad=15)\n",
    "\n",
    "sns.despine(left=True, bottom=True) # удалить линии границы"
   ]
  },
  {
   "cell_type": "markdown",
   "metadata": {},
   "source": [
    "**Структура поисковых запросов**"
   ]
  },
  {
   "cell_type": "code",
   "execution_count": 16,
   "metadata": {},
   "outputs": [
    {
     "name": "stdout",
     "output_type": "stream",
     "text": [
      "\n"
     ]
    },
    {
     "data": {
      "image/png": "[encoded data removed]",
      "text/plain": [
       "<Figure size 864x360 with 1 Axes>"
      ]
     },
     "metadata": {},
     "output_type": "display_data"
    }
   ],
   "source": [
    "plt.subplots(figsize=(12, 5))\n",
    "plt.title('Структура поисковых запросов', pad=20)\n",
    "plt.legend('')\n",
    "\n",
    "labels = ['Розничные покупатели','Оптовые покупатели (запросы «куплю...», «...опт»)','Продавцы крольчатины (запросы с «продам...»)']\n",
    "values = [5954, 614, 203]\n",
    "\n",
    "plt.pie(values, labels=labels, autopct='%.f%%', shadow=True)\n",
    "print()"
   ]
  }
 ],
 "metadata": {
  "kernelspec": {
   "display_name": "Python 3",
   "language": "python",
   "name": "python3"
  },
  "language_info": {
   "codemirror_mode": {
    "name": "ipython",
    "version": 3
   },
   "file_extension": ".py",
   "mimetype": "text/x-python",
   "name": "python",
   "nbconvert_exporter": "python",
   "pygments_lexer": "ipython3",
   "version": "3.7.6"
  }
 },
 "nbformat": 4,
 "nbformat_minor": 4
}
